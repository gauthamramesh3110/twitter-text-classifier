{
 "cells": [
  {
   "cell_type": "markdown",
   "metadata": {},
   "source": [
    "# Politician Rating Prediction by Analysing Twitter Data\n",
    "\n",
    "We start by importing the NLTK package and the twitter_samples dataset from the NLTK package."
   ]
  },
  {
   "cell_type": "code",
   "execution_count": 4,
   "metadata": {},
   "outputs": [],
   "source": [
    "import nltk\n",
    "from nltk.corpus import twitter_samples"
   ]
  },
  {
   "cell_type": "markdown",
   "metadata": {},
   "source": [
    "### The twitter_samples dataset contains 3 json file: \n",
    "1. negative_tweets.json \n",
    "2. positive_tweets.json\n",
    "3. tweets.20150430-223406.json\n",
    "\n",
    "As the name suggests, the first file contains negative tweets, the second contains positive tweets, and the third contains test data to test its accuracy."
   ]
  },
  {
   "cell_type": "code",
   "execution_count": 5,
   "metadata": {},
   "outputs": [
    {
     "name": "stdout",
     "output_type": "stream",
     "text": [
      "['negative_tweets.json', 'positive_tweets.json', 'tweets.20150430-223406.json']\n"
     ]
    }
   ],
   "source": [
    "fileids = [fileid for fileid in twitter_samples.fileids()]\n",
    "print(fileids[:])"
   ]
  },
  {
   "cell_type": "markdown",
   "metadata": {},
   "source": [
    "A sample of the data is show below."
   ]
  },
  {
   "cell_type": "code",
   "execution_count": 7,
   "metadata": {},
   "outputs": [
    {
     "name": "stdout",
     "output_type": "stream",
     "text": [
      "hopeless for tmr :(\n",
      "Everything in the kids section of IKEA is so cute. Shame I'm nearly 19 in 2 months :(\n",
      "@Hegelbon That heart sliding into the waste basket. :(\n",
      "“@ketchBurning: I hate Japanese call him \"bani\" :( :(”\n",
      "\n",
      "Me too\n",
      "Dang starting next week I have \"work\" :(\n",
      "oh god, my babies' faces :( https://t.co/9fcwGvaki0\n",
      "@RileyMcDonough make me smile :((\n",
      "@f0ggstar @stuartthull work neighbour on motors. Asked why and he said hates the updates on search :( http://t.co/XvmTUikWln\n",
      "why?:(\"@tahuodyy: sialan:( https://t.co/Hv1i0xcrL2\"\n",
      "Athabasca glacier was there in #1948 :-( #athabasca #glacier #jasper #jaspernationalpark #alberta #explorealberta #… http://t.co/dZZdqmf7Cz\n"
     ]
    }
   ],
   "source": [
    "strings = twitter_samples.strings(fileids[0])\n",
    "\n",
    "for string in strings[:10]:\n",
    "    print(string)"
   ]
  },
  {
   "cell_type": "markdown",
   "metadata": {},
   "source": []
  },
  {
   "cell_type": "code",
   "execution_count": 4,
   "metadata": {},
   "outputs": [],
   "source": [
    "import re\n",
    "\n",
    "def remove_handle(string):\n",
    "    regex = r\"(^|[^@\\w])@(\\w{1,15})\\b\"\n",
    "    return re.sub(regex, '', string)"
   ]
  },
  {
   "cell_type": "code",
   "execution_count": 17,
   "metadata": {},
   "outputs": [],
   "source": [
    "def get_wordnet_pos(pos):\n",
    "    if pos.startswith('J'):\n",
    "        return wordnet.ADJ\n",
    "    elif pos.startswith('V'):\n",
    "        return wordnet.VERB\n",
    "    elif pos.startswith('N'):\n",
    "        return wordnet.NOUN\n",
    "    elif pos.startswith('R'):\n",
    "        return wordnet.ADV\n",
    "    else:\n",
    "        return wordnet.NOUN"
   ]
  },
  {
   "cell_type": "code",
   "execution_count": 31,
   "metadata": {},
   "outputs": [],
   "source": [
    "from nltk.corpus import stopwords\n",
    "from nltk.tokenize import TweetTokenizer\n",
    "from nltk.stem import WordNetLemmatizer\n",
    "\n",
    "def process_string(string):\n",
    "    string = remove_handle(string) #remove twitter handle\n",
    "    \n",
    "    tokenizer = TweetTokenizer()\n",
    "    word_tokens = tokenizer.tokenize(string)#tokenize the sentence\n",
    "    \n",
    "    tagged = nltk.pos_tag(word_tokens)#pos tagging\n",
    "    \n",
    "    lemmatizer = WordNetLemmatizer()\n",
    "    lemmatized = [lemmatizer.lemmatize(w, get_wordnet_pos(pos)) for (w , pos) in tagged]\n",
    "    \n",
    "    stop_words = set(stopwords.words('english'))\n",
    "    filtered_sentence = [w for w in word_tokens if not w in stop_words] #filter stop words\n",
    "    \n",
    "    return filtered_sentence"
   ]
  },
  {
   "cell_type": "code",
   "execution_count": 32,
   "metadata": {},
   "outputs": [],
   "source": [
    "def process_data(data_strings):\n",
    "    processed_data = []\n",
    "    \n",
    "    for string in data_strings:\n",
    "        processed_data.append(process_string(string))\n",
    "    \n",
    "    return processed_data"
   ]
  },
  {
   "cell_type": "code",
   "execution_count": 40,
   "metadata": {},
   "outputs": [],
   "source": [
    "processed_data = []\n",
    "\n",
    "for fileid in fileids[:2]:\n",
    "    strings = twitter_samples.strings(fileid)\n",
    "    \n",
    "    p_s = process_data(strings)\n",
    "    for p in p_s:\n",
    "        processed_data.append((p, fileid[:3]))"
   ]
  },
  {
   "cell_type": "code",
   "execution_count": 41,
   "metadata": {},
   "outputs": [],
   "source": [
    "import random\n",
    "random.shuffle(processed_data)"
   ]
  }
 ],
 "metadata": {
  "kernelspec": {
   "display_name": "Python 3",
   "language": "python",
   "name": "python3"
  },
  "language_info": {
   "codemirror_mode": {
    "name": "ipython",
    "version": 3
   },
   "file_extension": ".py",
   "mimetype": "text/x-python",
   "name": "python",
   "nbconvert_exporter": "python",
   "pygments_lexer": "ipython3",
   "version": "3.7.7"
  }
 },
 "nbformat": 4,
 "nbformat_minor": 4
}
